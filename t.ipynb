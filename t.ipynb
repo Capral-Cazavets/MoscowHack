{
 "metadata": {
  "language_info": {
   "codemirror_mode": {
    "name": "ipython",
    "version": 3
   },
   "file_extension": ".py",
   "mimetype": "text/x-python",
   "name": "python",
   "nbconvert_exporter": "python",
   "pygments_lexer": "ipython3",
   "version": "3.9.5"
  },
  "orig_nbformat": 4,
  "kernelspec": {
   "name": "python3",
   "display_name": "Python 3.9.5 64-bit"
  },
  "interpreter": {
   "hash": "40319cae57660fddd2ad041e0daa0b8bf72d376bc2658d97eca8eb1693d2df38"
  }
 },
 "nbformat": 4,
 "nbformat_minor": 2,
 "cells": [
  {
   "cell_type": "code",
   "execution_count": 5,
   "metadata": {},
   "outputs": [],
   "source": [
    "import json\n",
    "import pandas as pd"
   ]
  },
  {
   "cell_type": "code",
   "execution_count": 14,
   "metadata": {},
   "outputs": [],
   "source": [
    "data = json.load(open('afisha.json', encoding='utf-8'))\n",
    "\n",
    "df = pd.DataFrame(data['items'])"
   ]
  },
  {
   "cell_type": "code",
   "execution_count": 39,
   "metadata": {},
   "outputs": [
    {
     "output_type": "execute_result",
     "data": {
      "text/plain": [
       "            0\n",
       "0          id\n",
       "1       title\n",
       "2   date_from\n",
       "3     date_to\n",
       "4        free\n",
       "..        ...\n",
       "76       free\n",
       "77      label\n",
       "78       kind\n",
       "79      image\n",
       "80    spheres\n",
       "\n",
       "[81 rows x 1 columns]"
      ],
      "text/html": "<div>\n<style scoped>\n    .dataframe tbody tr th:only-of-type {\n        vertical-align: middle;\n    }\n\n    .dataframe tbody tr th {\n        vertical-align: top;\n    }\n\n    .dataframe thead th {\n        text-align: right;\n    }\n</style>\n<table border=\"1\" class=\"dataframe\">\n  <thead>\n    <tr style=\"text-align: right;\">\n      <th></th>\n      <th>0</th>\n    </tr>\n  </thead>\n  <tbody>\n    <tr>\n      <th>0</th>\n      <td>id</td>\n    </tr>\n    <tr>\n      <th>1</th>\n      <td>title</td>\n    </tr>\n    <tr>\n      <th>2</th>\n      <td>date_from</td>\n    </tr>\n    <tr>\n      <th>3</th>\n      <td>date_to</td>\n    </tr>\n    <tr>\n      <th>4</th>\n      <td>free</td>\n    </tr>\n    <tr>\n      <th>...</th>\n      <td>...</td>\n    </tr>\n    <tr>\n      <th>76</th>\n      <td>free</td>\n    </tr>\n    <tr>\n      <th>77</th>\n      <td>label</td>\n    </tr>\n    <tr>\n      <th>78</th>\n      <td>kind</td>\n    </tr>\n    <tr>\n      <th>79</th>\n      <td>image</td>\n    </tr>\n    <tr>\n      <th>80</th>\n      <td>spheres</td>\n    </tr>\n  </tbody>\n</table>\n<p>81 rows × 1 columns</p>\n</div>"
     },
     "metadata": {},
     "execution_count": 39
    }
   ],
   "source": [
    "a = []\n",
    "for i in data['items']:\n",
    "    \n",
    "df1 = pd.DataFrame(a)\n",
    "df1"
   ]
  },
  {
   "cell_type": "code",
   "execution_count": null,
   "metadata": {},
   "outputs": [],
   "source": [
    "+ '_links': {'self': {'href': 'http://www.mos.ru/api/newsfeed/v4/frontend/json/ru/afisha?expand=spheres&fields=id%2Ctitle%2Clabel%2Cimage%2Cdate_from%2Cdate_to%2Ckind%2Cfree&per-page=9&sort=occurrences.date_to%2C-occurrences.date_from&page=1'},\n",
    "  'next': {'href': 'http://www.mos.ru/api/newsfeed/v4/frontend/json/ru/afisha?expand=spheres&fields=id%2Ctitle%2Clabel%2Cimage%2Cdate_from%2Cdate_to%2Ckind%2Cfree&per-page=9&sort=occurrences.date_to%2C-occurrences.date_from&page=2'},\n",
    "  'last': {'href': 'http://www.mos.ru/api/newsfeed/v4/frontend/json/ru/afisha?expand=spheres&fields=id%2Ctitle%2Clabel%2Cimage%2Cdate_from%2Cdate_to%2Ckind%2Cfree&per-page=9&sort=occurrences.date_to%2C-occurrences.date_from&page=66'}},\n",
    " '_meta': {'totalCount': 590, 'pageCount': 66, 'currentPage': 1, 'perPage': 9}}"
   ]
  },
  {
   "cell_type": "code",
   "execution_count": 27,
   "metadata": {},
   "outputs": [
    {
     "output_type": "execute_result",
     "data": {
      "text/plain": [
       "{'href': 'http://www.mos.ru/api/newsfeed/v4/frontend/json/ru/afisha?expand=spheres&fields=id%2Ctitle%2Clabel%2Cimage%2Cdate_from%2Cdate_to%2Ckind%2Cfree&per-page=9&sort=occurrences.date_to%2C-occurrences.date_from&page=1'}"
      ]
     },
     "metadata": {},
     "execution_count": 27
    }
   ],
   "source": [
    "data['_links']['self']"
   ]
  },
  {
   "cell_type": "code",
   "execution_count": null,
   "metadata": {},
   "outputs": [],
   "source": []
  }
 ]
}